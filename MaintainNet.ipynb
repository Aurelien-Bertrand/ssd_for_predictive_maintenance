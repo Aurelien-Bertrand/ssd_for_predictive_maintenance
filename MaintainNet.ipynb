{
 "cells": [
  {
   "cell_type": "code",
   "execution_count": 4,
   "metadata": {},
   "outputs": [
    {
     "name": "stdout",
     "output_type": "stream",
     "text": [
      "(25000, 1001)\n"
     ]
    }
   ],
   "source": [
    "import importlib\n",
    "from pprint import pprint\n",
    "import pandas as pd\n",
    "# import faults_classification.MaintainNet as MaintainNet\n",
    "import MaintainNet as MaintainNet\n",
    "\n",
    "\n",
    "# data = pd.read_csv('./NeuralNet/data/data.csv')\n",
    "test_data = pd.read_csv('./NeuralNet/data/test.csv')\n",
    "# print(data.shape)\n",
    "print(test_data.shape)\n",
    "\n"
   ]
  },
  {
   "cell_type": "code",
   "execution_count": 2,
   "metadata": {},
   "outputs": [
    {
     "data": {
      "text/html": [
       "<div>\n",
       "<style scoped>\n",
       "    .dataframe tbody tr th:only-of-type {\n",
       "        vertical-align: middle;\n",
       "    }\n",
       "\n",
       "    .dataframe tbody tr th {\n",
       "        vertical-align: top;\n",
       "    }\n",
       "\n",
       "    .dataframe thead th {\n",
       "        text-align: right;\n",
       "    }\n",
       "</style>\n",
       "<table border=\"1\" class=\"dataframe\">\n",
       "  <thead>\n",
       "    <tr style=\"text-align: right;\">\n",
       "      <th></th>\n",
       "      <th>data1</th>\n",
       "      <th>data2</th>\n",
       "      <th>data3</th>\n",
       "      <th>data4</th>\n",
       "      <th>data5</th>\n",
       "      <th>data6</th>\n",
       "      <th>data7</th>\n",
       "      <th>data8</th>\n",
       "      <th>data9</th>\n",
       "      <th>data10</th>\n",
       "      <th>...</th>\n",
       "      <th>data992</th>\n",
       "      <th>data993</th>\n",
       "      <th>data994</th>\n",
       "      <th>data995</th>\n",
       "      <th>data996</th>\n",
       "      <th>data997</th>\n",
       "      <th>data998</th>\n",
       "      <th>data999</th>\n",
       "      <th>data1000</th>\n",
       "      <th>data1001</th>\n",
       "    </tr>\n",
       "  </thead>\n",
       "  <tbody>\n",
       "    <tr>\n",
       "      <th>0</th>\n",
       "      <td>3.800670</td>\n",
       "      <td>4.365718</td>\n",
       "      <td>11.050194</td>\n",
       "      <td>18.331710</td>\n",
       "      <td>10.564672</td>\n",
       "      <td>4.703252</td>\n",
       "      <td>6.854215</td>\n",
       "      <td>14.432060</td>\n",
       "      <td>-2.155948</td>\n",
       "      <td>-5.680195</td>\n",
       "      <td>...</td>\n",
       "      <td>-1.449810</td>\n",
       "      <td>1.974466</td>\n",
       "      <td>4.325783</td>\n",
       "      <td>10.560866</td>\n",
       "      <td>0.757882</td>\n",
       "      <td>6.480400</td>\n",
       "      <td>5.763779</td>\n",
       "      <td>5.830934</td>\n",
       "      <td>11.261841</td>\n",
       "      <td>0</td>\n",
       "    </tr>\n",
       "    <tr>\n",
       "      <th>1</th>\n",
       "      <td>16.166480</td>\n",
       "      <td>9.422710</td>\n",
       "      <td>17.137750</td>\n",
       "      <td>26.762116</td>\n",
       "      <td>27.723035</td>\n",
       "      <td>20.904689</td>\n",
       "      <td>13.749681</td>\n",
       "      <td>23.353065</td>\n",
       "      <td>12.989775</td>\n",
       "      <td>8.226459</td>\n",
       "      <td>...</td>\n",
       "      <td>1.337168</td>\n",
       "      <td>-0.533991</td>\n",
       "      <td>7.630903</td>\n",
       "      <td>8.703524</td>\n",
       "      <td>11.545501</td>\n",
       "      <td>-3.896044</td>\n",
       "      <td>-1.031797</td>\n",
       "      <td>2.796665</td>\n",
       "      <td>9.629473</td>\n",
       "      <td>0</td>\n",
       "    </tr>\n",
       "    <tr>\n",
       "      <th>2</th>\n",
       "      <td>3.738685</td>\n",
       "      <td>11.278197</td>\n",
       "      <td>9.688675</td>\n",
       "      <td>7.394414</td>\n",
       "      <td>2.592537</td>\n",
       "      <td>4.161685</td>\n",
       "      <td>0.590172</td>\n",
       "      <td>2.642632</td>\n",
       "      <td>2.936393</td>\n",
       "      <td>6.467748</td>\n",
       "      <td>...</td>\n",
       "      <td>1.971759</td>\n",
       "      <td>-4.452432</td>\n",
       "      <td>-0.919498</td>\n",
       "      <td>6.579389</td>\n",
       "      <td>-6.250387</td>\n",
       "      <td>-0.198939</td>\n",
       "      <td>-0.519628</td>\n",
       "      <td>2.551141</td>\n",
       "      <td>-1.710916</td>\n",
       "      <td>1</td>\n",
       "    </tr>\n",
       "    <tr>\n",
       "      <th>3</th>\n",
       "      <td>5.651146</td>\n",
       "      <td>15.588190</td>\n",
       "      <td>28.280593</td>\n",
       "      <td>8.064072</td>\n",
       "      <td>16.398476</td>\n",
       "      <td>2.127740</td>\n",
       "      <td>20.979069</td>\n",
       "      <td>12.352594</td>\n",
       "      <td>16.037309</td>\n",
       "      <td>20.934766</td>\n",
       "      <td>...</td>\n",
       "      <td>8.147717</td>\n",
       "      <td>-5.391168</td>\n",
       "      <td>1.811980</td>\n",
       "      <td>5.469933</td>\n",
       "      <td>6.862845</td>\n",
       "      <td>5.008885</td>\n",
       "      <td>-2.384800</td>\n",
       "      <td>-3.531355</td>\n",
       "      <td>-2.265533</td>\n",
       "      <td>1</td>\n",
       "    </tr>\n",
       "    <tr>\n",
       "      <th>4</th>\n",
       "      <td>10.951431</td>\n",
       "      <td>20.635956</td>\n",
       "      <td>15.602781</td>\n",
       "      <td>25.873475</td>\n",
       "      <td>13.958424</td>\n",
       "      <td>11.513870</td>\n",
       "      <td>20.163535</td>\n",
       "      <td>8.736754</td>\n",
       "      <td>-0.389070</td>\n",
       "      <td>4.147654</td>\n",
       "      <td>...</td>\n",
       "      <td>7.220715</td>\n",
       "      <td>10.783838</td>\n",
       "      <td>1.748885</td>\n",
       "      <td>8.624529</td>\n",
       "      <td>7.855401</td>\n",
       "      <td>9.894649</td>\n",
       "      <td>3.892595</td>\n",
       "      <td>7.295361</td>\n",
       "      <td>-7.489867</td>\n",
       "      <td>0</td>\n",
       "    </tr>\n",
       "  </tbody>\n",
       "</table>\n",
       "<p>5 rows × 1001 columns</p>\n",
       "</div>"
      ],
      "text/plain": [
       "       data1      data2      data3      data4      data5      data6  \\\n",
       "0   3.800670   4.365718  11.050194  18.331710  10.564672   4.703252   \n",
       "1  16.166480   9.422710  17.137750  26.762116  27.723035  20.904689   \n",
       "2   3.738685  11.278197   9.688675   7.394414   2.592537   4.161685   \n",
       "3   5.651146  15.588190  28.280593   8.064072  16.398476   2.127740   \n",
       "4  10.951431  20.635956  15.602781  25.873475  13.958424  11.513870   \n",
       "\n",
       "       data7      data8      data9     data10  ...   data992    data993  \\\n",
       "0   6.854215  14.432060  -2.155948  -5.680195  ... -1.449810   1.974466   \n",
       "1  13.749681  23.353065  12.989775   8.226459  ...  1.337168  -0.533991   \n",
       "2   0.590172   2.642632   2.936393   6.467748  ...  1.971759  -4.452432   \n",
       "3  20.979069  12.352594  16.037309  20.934766  ...  8.147717  -5.391168   \n",
       "4  20.163535   8.736754  -0.389070   4.147654  ...  7.220715  10.783838   \n",
       "\n",
       "    data994    data995    data996   data997   data998   data999   data1000  \\\n",
       "0  4.325783  10.560866   0.757882  6.480400  5.763779  5.830934  11.261841   \n",
       "1  7.630903   8.703524  11.545501 -3.896044 -1.031797  2.796665   9.629473   \n",
       "2 -0.919498   6.579389  -6.250387 -0.198939 -0.519628  2.551141  -1.710916   \n",
       "3  1.811980   5.469933   6.862845  5.008885 -2.384800 -3.531355  -2.265533   \n",
       "4  1.748885   8.624529   7.855401  9.894649  3.892595  7.295361  -7.489867   \n",
       "\n",
       "   data1001  \n",
       "0         0  \n",
       "1         0  \n",
       "2         1  \n",
       "3         1  \n",
       "4         0  \n",
       "\n",
       "[5 rows x 1001 columns]"
      ]
     },
     "execution_count": 2,
     "metadata": {},
     "output_type": "execute_result"
    }
   ],
   "source": [
    "test_data.head()"
   ]
  },
  {
   "cell_type": "code",
   "execution_count": 96,
   "metadata": {},
   "outputs": [
    {
     "data": {
      "text/plain": [
       "data1001\n",
       "1    25132\n",
       "0    24868\n",
       "Name: count, dtype: int64"
      ]
     },
     "execution_count": 96,
     "metadata": {},
     "output_type": "execute_result"
    }
   ],
   "source": [
    "data.data1001.value_counts()"
   ]
  },
  {
   "cell_type": "code",
   "execution_count": 79,
   "metadata": {},
   "outputs": [],
   "source": [
    "import torch\n",
    "\n",
    "\n",
    "# def saver(model, data_size, epochs, n_components):\n",
    "#     torch.save(model.state_dict(), f'./models/model.pth')\n",
    "\n",
    "# def loader(path, data_size, epochs, n_components):\n",
    "#     if path == None:\n",
    "#         path = f'./models/model.pth'\n",
    "#     model = torch.load(path)\n",
    "#     model.eval()\n",
    "#     return model\n",
    "\n",
    "# Method to train a set of models and report the training and validation losses\n",
    "def trainer(models, data, epochs):\n",
    "    d = {}\n",
    "    for model in models:\n",
    "        print(\"TESTING:\", model.name)\n",
    "        model.load_data(data, batch_size=128)\n",
    "        val_loss, train_loss = model.trainer(epochs)\n",
    "        d[model.name] = {'train_loss': train_loss[-1], 'val_loss': val_loss[-1]}\n",
    "    return d\n",
    "\n",
    "# Method to test a set of models and report the test losses and accuracies\n",
    "def tester(models, data):\n",
    "    for model in models:\n",
    "        print(\"TESTING:\", model.name)\n",
    "        model.load_test_data(data, batch_size=128)\n",
    "        model.test()"
   ]
  },
  {
   "cell_type": "code",
   "execution_count": 92,
   "metadata": {},
   "outputs": [
    {
     "name": "stdout",
     "output_type": "stream",
     "text": [
      "Using device: cpu\n",
      "TESTING: MrMaintenance\n"
     ]
    },
    {
     "name": "stderr",
     "output_type": "stream",
     "text": [
      "                                                                        \r"
     ]
    },
    {
     "name": "stdout",
     "output_type": "stream",
     "text": [
      "Epoch 1, Train Loss: 0.6053569070256937, Validation Loss: 0.5464589112921606\n"
     ]
    },
    {
     "name": "stderr",
     "output_type": "stream",
     "text": [
      "                                                                        \r"
     ]
    },
    {
     "name": "stdout",
     "output_type": "stream",
     "text": [
      "Epoch 2, Train Loss: 0.3435343568698286, Validation Loss: 0.33195067715795734\n"
     ]
    },
    {
     "name": "stderr",
     "output_type": "stream",
     "text": [
      "                                                                        \r"
     ]
    },
    {
     "name": "stdout",
     "output_type": "stream",
     "text": [
      "Epoch 3, Train Loss: 0.21255644496542198, Validation Loss: 0.1923562426450132\n"
     ]
    },
    {
     "name": "stderr",
     "output_type": "stream",
     "text": [
      "                                                                        \r"
     ]
    },
    {
     "name": "stdout",
     "output_type": "stream",
     "text": [
      "Epoch 4, Train Loss: 0.13818520150435998, Validation Loss: 0.20077787924416457\n"
     ]
    },
    {
     "name": "stderr",
     "output_type": "stream",
     "text": [
      "                                                                        \r"
     ]
    },
    {
     "name": "stdout",
     "output_type": "stream",
     "text": [
      "Epoch 5, Train Loss: 0.08538991547882938, Validation Loss: 0.10689565949613535\n"
     ]
    },
    {
     "name": "stderr",
     "output_type": "stream",
     "text": [
      "                                                                        \r"
     ]
    },
    {
     "name": "stdout",
     "output_type": "stream",
     "text": [
      "Epoch 6, Train Loss: 0.0548934313221671, Validation Loss: 0.10113903092621249\n"
     ]
    },
    {
     "name": "stderr",
     "output_type": "stream",
     "text": [
      "                                                                        \r"
     ]
    },
    {
     "name": "stdout",
     "output_type": "stream",
     "text": [
      "Epoch 7, Train Loss: 0.04066004373502141, Validation Loss: 0.08140756043640873\n"
     ]
    },
    {
     "name": "stderr",
     "output_type": "stream",
     "text": [
      "                                                                        \r"
     ]
    },
    {
     "name": "stdout",
     "output_type": "stream",
     "text": [
      "Epoch 8, Train Loss: 0.04286396717682433, Validation Loss: 0.06850297692455823\n"
     ]
    },
    {
     "name": "stderr",
     "output_type": "stream",
     "text": [
      "                                                                        \r"
     ]
    },
    {
     "name": "stdout",
     "output_type": "stream",
     "text": [
      "Epoch 9, Train Loss: 0.02724327258587169, Validation Loss: 0.03310688585337676\n"
     ]
    },
    {
     "name": "stderr",
     "output_type": "stream",
     "text": [
      "                                                                         "
     ]
    },
    {
     "name": "stdout",
     "output_type": "stream",
     "text": [
      "Epoch 10, Train Loss: 0.027198156878239097, Validation Loss: 0.24435580436941945\n",
      "\n",
      "{'MrMaintenance': {'train_loss': 0.027198156878239097,\n",
      "                   'val_loss': 0.24435580436941945}}\n"
     ]
    },
    {
     "name": "stderr",
     "output_type": "stream",
     "text": [
      "\r"
     ]
    }
   ],
   "source": [
    "importlib.reload(MaintaiNet)\n",
    "\n",
    "# Add all models you want to train/test here\n",
    "models = [\n",
    "    MaintaiNet.MaintainNet('MrMaintenance', 2),\n",
    "]\n",
    "\n",
    "\n",
    "epochs = 10\n",
    "\n",
    "results = trainer(models, data, epochs)\n",
    "print()\n",
    "pprint(results)\n"
   ]
  },
  {
   "cell_type": "code",
   "execution_count": 93,
   "metadata": {},
   "outputs": [
    {
     "name": "stdout",
     "output_type": "stream",
     "text": [
      "TESTING: MrMaintenance\n"
     ]
    },
    {
     "name": "stderr",
     "output_type": "stream",
     "text": [
      "                                                        "
     ]
    },
    {
     "name": "stdout",
     "output_type": "stream",
     "text": [
      "Test Loss: 0.22540713808959043, Accuracy: 90.75%\n"
     ]
    },
    {
     "name": "stderr",
     "output_type": "stream",
     "text": [
      "\r"
     ]
    }
   ],
   "source": [
    "tester(models, test_data)"
   ]
  },
  {
   "cell_type": "code",
   "execution_count": 16,
   "metadata": {},
   "outputs": [
    {
     "name": "stdout",
     "output_type": "stream",
     "text": [
      "Using device: cpu\n",
      "1000\n",
      "0\n"
     ]
    }
   ],
   "source": [
    "# importlib.reload(MaintainNet)\n",
    "\n",
    "model = MaintainNet.MaintainNet('MrMaintenance', 2)\n",
    "\n",
    "# Test instance\n",
    "x = test_data.iloc[0,:-1].to_numpy()\n",
    "\n",
    "# It's a signal of length 1000\n",
    "print(len(x))\n",
    "\n",
    "y = model.predict(x)\n",
    "print(y)\n"
   ]
  },
  {
   "cell_type": "code",
   "execution_count": null,
   "metadata": {},
   "outputs": [],
   "source": []
  }
 ],
 "metadata": {
  "kernelspec": {
   "display_name": "Python 3",
   "language": "python",
   "name": "python3"
  },
  "language_info": {
   "codemirror_mode": {
    "name": "ipython",
    "version": 3
   },
   "file_extension": ".py",
   "mimetype": "text/x-python",
   "name": "python",
   "nbconvert_exporter": "python",
   "pygments_lexer": "ipython3",
   "version": "3.10.8"
  }
 },
 "nbformat": 4,
 "nbformat_minor": 2
}
